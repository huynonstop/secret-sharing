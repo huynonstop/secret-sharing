{
 "cells": [
  {
   "cell_type": "markdown",
   "metadata": {},
   "source": [
    "# Thông tin\n",
    "\n",
    "MSSV: 20424037\n",
    "\n",
    "Họ và tên: Trần Tuấn Huy\n",
    "\n",
    "### Báo cáo mô tả các thuật toán đã cài đặt và giải thích các vấn đề của thuật toán Shamir cho số nguyên và tại sao áp dụng trường hữu hạn lại giải quyết các vấn đề đó được ghi trong file noteboook này"
   ]
  },
  {
   "cell_type": "code",
   "execution_count": 1,
   "metadata": {},
   "outputs": [
    {
     "name": "stdout",
     "output_type": "stream",
     "text": [
      "Requirement already satisfied: numpy in c:\\python39\\lib\\site-packages (1.19.5)\n"
     ]
    },
    {
     "name": "stderr",
     "output_type": "stream",
     "text": [
      "WARNING: Ignoring invalid distribution -ip (c:\\python39\\lib\\site-packages)\n",
      "WARNING: Ignoring invalid distribution -ip (c:\\python39\\lib\\site-packages)\n",
      "WARNING: Ignoring invalid distribution -ip (c:\\python39\\lib\\site-packages)\n",
      "WARNING: Ignoring invalid distribution -ip (c:\\python39\\lib\\site-packages)\n",
      "WARNING: You are using pip version 21.3; however, version 21.3.1 is available.\n",
      "You should consider upgrading via the 'c:\\python39\\python.exe -m pip install --upgrade pip' command.\n"
     ]
    },
    {
     "name": "stdout",
     "output_type": "stream",
     "text": [
      "Requirement already satisfied: galois in c:\\python39\\lib\\site-packages (0.0.21)\n",
      "Requirement already satisfied: numba<0.54,>=0.53 in c:\\python39\\lib\\site-packages (from galois) (0.53.1)\n",
      "Requirement already satisfied: numpy<1.21,>=1.17.3 in c:\\python39\\lib\\site-packages (from galois) (1.19.5)\n",
      "Requirement already satisfied: llvmlite<0.37,>=0.36.0rc1 in c:\\python39\\lib\\site-packages (from numba<0.54,>=0.53->galois) (0.36.0)\n",
      "Requirement already satisfied: setuptools in c:\\python39\\lib\\site-packages (from numba<0.54,>=0.53->galois) (57.4.0)\n"
     ]
    },
    {
     "name": "stderr",
     "output_type": "stream",
     "text": [
      "WARNING: Ignoring invalid distribution -ip (c:\\python39\\lib\\site-packages)\n",
      "WARNING: Ignoring invalid distribution -ip (c:\\python39\\lib\\site-packages)\n",
      "WARNING: Ignoring invalid distribution -ip (c:\\python39\\lib\\site-packages)\n",
      "WARNING: Ignoring invalid distribution -ip (c:\\python39\\lib\\site-packages)\n",
      "WARNING: You are using pip version 21.3; however, version 21.3.1 is available.\n",
      "You should consider upgrading via the 'c:\\python39\\python.exe -m pip install --upgrade pip' command.\n"
     ]
    }
   ],
   "source": [
    "# Cài đặt các thư viện cần thiết\n",
    "!pip install numpy\n",
    "!pip install galois\n",
    "\n",
    "import numpy as np\n",
    "from PIL import Image\n",
    "import galois\n",
    "import scipy"
   ]
  },
  {
   "cell_type": "markdown",
   "metadata": {},
   "source": [
    "## Thuật toán Shamir để chia sẽ thông tin mật là một con số nguyên S"
   ]
  },
  {
   "cell_type": "markdown",
   "metadata": {},
   "source": [
    "Bài toán chia một thông tin mật S là một số nguyên thành n phần, sao cho:\n",
    "- Với ít nhất là k phần bất kỳ (k ≤ n) thì sẽ tái tạo được S\n",
    "- Với ít hơn k phần thì sẽ không biết gì về S\n",
    "\n",
    "Mô tả thuật toán Shamir. Thuật toán gồm hai quá trình:\n",
    "\n",
    "1. Phân chia thông tin mật từ thông tin mật S, số phần cần chia n và ngưỡng tái tạo k:\n",
    "    - Tạo đa thức f là đa thức bậc k - 1, sao cho f(0) = S:$$f(x) = a_{k-1} x^{k-1} + a_{k-2} x^{k-2} + ... + a_{1} x ^ 1 + S$$\n",
    "    - Từ đa thức f, chia n mảnh: $$S_1 = (1, f(1)), S_2 = (2, f(2)), ... , S_n = (n, f(n)) $$\n",
    "2. Tái tạo thông tin mật từ n' phần, với n' >= k:\n",
    "    - Tái tạo đa thức f (bậc k - 1) từ k phần tử trong n' phần (*)\n",
    "    - Tính S từ giá trị f(0) của đa thức được tái tạo\n",
    "\n",
    "(*) Ta có thể tái tạo đa thức f bậc k - 1, đi qua k điểm bằng cách sử dụng nột suy Lagrange\n",
    "$$f(x) = f(x_1) \\delta_{x_1}(x) + f(x_2) \\delta_{x_2}(x) + ... +f(x_k) \\delta_{x_k}(x)  $$\n",
    "\n",
    "Trong đó:  \n",
    "$$\\delta_{xi}(x) = \\left\\{ \n",
    "  \\begin{array}{ c l }\n",
    "    1 & \\quad \\textrm{nếu } x = x_i \\\\\n",
    "    0 & \\quad \\textrm{nếu } x \\in \\left\\{ x_1, ... , x_k \\right\\} - \\left\\{ x_i \\right\\} \\\\ \n",
    "    \\textrm{sao cũng được trong những trường hợp khác}\n",
    "  \\end{array}\n",
    "\\right.$$\n",
    "\n",
    "$$ \\delta_{xi}(x) = \\frac{x - x_1}{x_i - x_1} \\frac{x - x_2}{x_i - x_2} ... \\frac{x - x_{i-1}}{x_i - x_{i-1}}\\frac{x - x_{i+1}}{x_i - x_{i+1}} ... \\frac{x - x_{k}}{x_i - x_{k}}\n",
    "$$"
   ]
  },
  {
   "cell_type": "code",
   "execution_count": 2,
   "metadata": {},
   "outputs": [],
   "source": [
    "def polynomial(xs: np.ndarray, coefs: np.ndarray):\n",
    "    '''\n",
    "    Hàm tính các giá trị một đa thức, có n hệ số\n",
    "\n",
    "    Input:\n",
    "        xs (mảng 1 chiều): Các giá trị x mà tại đó cần tính f(x).\n",
    "        coefs (mảng 1 chiều): Các hệ số của đa thức.\n",
    "\n",
    "    Output:\n",
    "        mảng 1 chiều: các giá trị f(x) tương ứng với xs\n",
    "    '''\n",
    "    f_xs = np.zeros(xs.shape)\n",
    "    n = len(coefs)\n",
    "    # f(x) = coefs[0] + coefs[1]*x + coefs[2]*x^2 + ... + coefs[n - 1]*x^(n-1)\n",
    "    for i in range(n):\n",
    "        f_xs +=  coefs[i] * (xs ** i)\n",
    "    return f_xs\n",
    "\n",
    "def lagrange_interpolation(xs, ys, x):\n",
    "    '''\n",
    "    Hàm tính nội suy Lagrange\n",
    "\n",
    "    Input:\n",
    "        xs, ys (2 mảng 1 chiều): ys[i] = f(xs[i]).\n",
    "        x (float): Giá trị x mà tại đó cần tính f(x) bằng nội suy Lagrange.\n",
    "\n",
    "    Output:\n",
    "        float: Giá trị f tại x\n",
    "    '''\n",
    "    f_x = 0\n",
    "    for i in range(len(xs)):\n",
    "        delta = 1\n",
    "        for j in range(len(xs)):\n",
    "            if j != i:\n",
    "                delta *= (x - xs[j]) / (xs[i] - xs[j])\n",
    "        f_x += ys[i] * delta\n",
    "    \n",
    "    return f_x"
   ]
  },
  {
   "cell_type": "code",
   "execution_count": 3,
   "metadata": {},
   "outputs": [],
   "source": [
    "class Shamir:\n",
    "    # Cài đặt thuật toán Shamir\n",
    "    def __init__(self, S: int, n: int, k: int) -> None:\n",
    "        '''\n",
    "        Khởi tạo các giá trị của bài toán\n",
    "\n",
    "        Input:\n",
    "            S (int): thông tin mật cần chia\n",
    "            n (int): số mảnh cần chia\n",
    "            k (int): số phần tử cần để tái tạo tin mật\n",
    "        '''\n",
    "        self.S = S\n",
    "        self.n = n\n",
    "        self.k = k\n",
    "\n",
    "    def split(self):\n",
    "        '''\n",
    "        Phương thức để chia tin mật thành n phần, \n",
    "\n",
    "        Output:\n",
    "            xs, ys (2 mảng 1 chiều): \n",
    "                giá trị của các phần được phân chia, với phần thứ i là (xs[i], ys[i] = f(xs[i]))\n",
    "                và f là đa thức bậc k - 1, có k hệ số\n",
    "            coefs (mảng 1 chiều): các hệ số của đa thức f\n",
    "        '''\n",
    "        # Tạo k hệ số, hệ số đầu tiên là S để f(0) = S\n",
    "        coefs = np.random.randint(-10, 10, self.k)\n",
    "        coefs[0] = self.S\n",
    "        # Tạo mảng xs từ 1 đến n\n",
    "        xs = np.arange(self.n) + 1\n",
    "        # Tính giá trị ys[i] = f(xs[i]) tương ứng với xs\n",
    "        ys = polynomial(xs, coefs)\n",
    "        return xs, ys, coefs\n",
    "\n",
    "    def split_float(self):\n",
    "        '''\n",
    "        Phương thức để chia tin mật thành n phần, với các hệ số thực\n",
    "\n",
    "        Output:\n",
    "            xs, ys (2 mảng 1 chiều): \n",
    "                giá trị của các phần được phân chia, với phần thứ i là (xs[i], ys[i] = f(xs[i]))\n",
    "                và f là đa thức bậc k - 1, có k hệ số\n",
    "            coefs (mảng 1 chiều): các hệ số của đa thức f\n",
    "        '''\n",
    "        # Tạo k hệ số thực, hệ số đầu tiên là S để f(0) = S\n",
    "        coefs = np.random.uniform(-10, 10, self.k)\n",
    "        coefs[0] = self.S\n",
    "        # Tạo mảng xs từ 1 đến n\n",
    "        xs = np.arange(self.n) + 1\n",
    "        # Tính giá trị ys[i] = f(xs[i]) tương ứng với xs\n",
    "        ys = polynomial(xs, coefs)\n",
    "        return xs, ys, coefs\n",
    "\n",
    "    def join_lagrange_interpolation(self, xs, ys):\n",
    "        '''\n",
    "        Phương thức để tái tạo tin mật S từ các phần của tin mật (số phần >= k) bằng nột suy Lagrange\n",
    "\n",
    "        Input:\n",
    "            xs, ys (2 mảng 1 chiều): \n",
    "                giá trị của các phần, với phần thứ i là (xs[i], ys[i] = f(xs[i]))\n",
    "                và f là đa thức bậc k - 1, có k hệ số\n",
    "        \n",
    "        Output:\n",
    "            Tin mật S được tái tạo, trong trường hợp không đủ số phần để tái tạo tin mật thì trả về None.\n",
    "        '''\n",
    "        # Kiểm tra số lượng phần tử tái tạo tin mật\n",
    "        if len(xs) < self.k:\n",
    "            return None\n",
    "        # Tính nội suy lagrange tại f(0) => S\n",
    "        S = lagrange_interpolation(xs[:self.k], ys[:self.k], 0)\n",
    "        return S\n",
    "\n",
    "    # def join_cramer(self, xs, ys):\n",
    "    #     A = x_polynomial_matrix(xs, self.k)\n",
    "    #     b = ys.T\n",
    "    #     x = np.dot(np.linalg.inv(A), b)\n",
    "    #     return x[0]\n",
    "    "
   ]
  },
  {
   "cell_type": "code",
   "execution_count": 4,
   "metadata": {},
   "outputs": [
    {
     "name": "stdout",
     "output_type": "stream",
     "text": [
      "[1 2 3 4 5] [107. 116. 127. 140. 155.] 100\n",
      "None 100.0 100.0\n"
     ]
    }
   ],
   "source": [
    "# Khởi tạo thuật toán\n",
    "S = 100\n",
    "k = 3\n",
    "n = 5\n",
    "shamir = Shamir(S,n,k)\n",
    "# Phân chia tin mật\n",
    "xs, ys, coefs = shamir.split()\n",
    "print(xs, ys, coefs[0])\n",
    "# Phục hồi tin mật bằng Lagrange\n",
    "print(\n",
    "    # k - 1 phần\n",
    "    shamir.join_lagrange_interpolation(xs[0:k -1],ys[0:k -1]),\n",
    "    # k phần \n",
    "    shamir.join_lagrange_interpolation(xs[0:k],ys[0:k]),\n",
    "    # k phần\n",
    "    shamir.join_lagrange_interpolation(xs[1:k+1],ys[1:k+1])\n",
    ")"
   ]
  },
  {
   "cell_type": "markdown",
   "metadata": {},
   "source": [
    "## Các vấn đề của thuật toán Shamir:\n",
    "\n",
    "- Bị tràn số khi chia quá nhiều phần (bậc của đa thức quá lớn)\n",
    "- Tính toán với số thực không chính xác (máy tính không thể biểu diễn số thực chính xác)"
   ]
  },
  {
   "cell_type": "code",
   "execution_count": 5,
   "metadata": {},
   "outputs": [
    {
     "name": "stdout",
     "output_type": "stream",
     "text": [
      "17265768530020.0\n",
      "99.99999809265137\n"
     ]
    }
   ],
   "source": [
    "# Overflow\n",
    "shamir2 = Shamir(100,20,15)\n",
    "xs, ys, coefs = shamir2.split()\n",
    "print(shamir2.join_lagrange_interpolation(xs[0:15],ys[0:15]))\n",
    "# Số thực không chính xác\n",
    "shamir3 = Shamir(100,10,9)\n",
    "xs, ys, coefs = shamir3.split_float()\n",
    "print(shamir3.join_lagrange_interpolation(xs[1:10],ys[1:10]))"
   ]
  },
  {
   "cell_type": "markdown",
   "metadata": {},
   "source": [
    "- Ngoài ra Shamir còn gặp một vấn đề liên quan đến bảo mật, đó là với k' phần (k' < k>) và dạng hàm số (bậc k), ta có thể thực hiện brute force để suy ra các phần còn lại để giải được tin mật."
   ]
  },
  {
   "cell_type": "markdown",
   "metadata": {},
   "source": [
    "## Áp dụng trường hữu hạn để cải tiến thuật toán Shamir\n",
    "\n",
    "Số thực là một trường có vô số phần tử\n",
    "\n",
    "Một trường (field) là một tập hợp mà trên đó:\n",
    "- Các phép cộng, trừ (cộng với số ngược dấu), nhân, chia (nhân với số nghịch đảo) được định nghĩa (kết quả của những phép tính này cũng phải nằm trong tập hợp của trường → có tiềm năng để tránh vấn đề tràn số)\n",
    "- Có tính chất như những phép tính trên số thực\n",
    "\n",
    "=> Trường hữu hạn có thể giúp thuật toán Shamir có thể tính toán và biễu diễn chính xác kết quả, đồng thời khiến cho việc đoán được khó hơn vì kết quả sẽ tuần hoàn trong trường hữu hạn thay vì nằm trên hàm số f."
   ]
  },
  {
   "cell_type": "code",
   "execution_count": 6,
   "metadata": {},
   "outputs": [],
   "source": [
    "# Định nghĩa các phép toán trên trường hữu hạn Z_p\n",
    "def polynomial_p(p, xs: np.ndarray, coefs: np.ndarray):\n",
    "    # Hàm tính giá trị đa thức trong trường hữu hạn\n",
    "    f_xs = np.zeros(xs.shape, dtype=int)\n",
    "    n = len(coefs)\n",
    "    for i in range(n):\n",
    "        xs_pow_i = np.ones(xs.shape, dtype=int)\n",
    "        for j in range(i):\n",
    "            xs_pow_i = (xs_pow_i * xs) % p\n",
    "        f_xs = (f_xs + coefs[i] * xs_pow_i % p) % p\n",
    "    return f_xs\n",
    "\n",
    "def compute_inv_p(p, x):\n",
    "    # Hàm tính nghịch đảo trong trường hữu hạn\n",
    "    for i in range(p):\n",
    "        if i * x % p == 1:\n",
    "            return i\n",
    "    return None\n",
    "\n",
    "def lagrange_interpolation_p(p, xs, ys, x):\n",
    "    # Hàm tính nội suy Lagrange trong trường hữu hạn\n",
    "    f_x = 0\n",
    "    for i in range(len(xs)):\n",
    "        delta = 1\n",
    "        for j in range(len(xs)):\n",
    "            if j != i:\n",
    "                delta = delta * (((x - xs[j]) % p) * compute_inv_p(p, (xs[i] - xs[j]) % p) % p) % p\n",
    "        f_x = (f_x + ys[i] * delta % p) % p\n",
    "    return f_x"
   ]
  },
  {
   "cell_type": "code",
   "execution_count": 7,
   "metadata": {},
   "outputs": [],
   "source": [
    "class ShamirP:\n",
    "    # Cài đặt thuật toán Schamir trong trường hữu hạn\n",
    "    def __init__(self, S: int, n: int, k: int, p: int) -> None:\n",
    "        '''\n",
    "        Khởi tạo các giá trị của bài toán trong trường hữu hạn Z_p\n",
    "\n",
    "        Input:\n",
    "            S (int): thông tin mật cần chia\n",
    "            n (int): số mảnh cần chia\n",
    "            k (int): số phần tử cần để tái tạo tin mật\n",
    "            p (int): giá trị của trường hữu hạn, là số nguyên tố\n",
    "        '''\n",
    "        self.S = S\n",
    "        self.n = n\n",
    "        self.k = k\n",
    "        self.p = p\n",
    "\n",
    "    def split(self):\n",
    "        # Tạo k hệ số trong trường hữu hạn, hệ số đầu tiên là S để f(0) = S\n",
    "        coefs = np.random.randint(0, self.p, self.k)\n",
    "        coefs[0] = self.S\n",
    "        # Tạo mảng xs từ 1 đến n\n",
    "        xs = np.arange(self.n) + 1\n",
    "        # Tính giá trị ys[i] = f(xs[i]) tương ứng với xs trong trường hữu hạn\n",
    "        ys = polynomial_p(self.p, xs, coefs)\n",
    "        return xs, ys, coefs\n",
    "\n",
    "    def join_lagrange_interpolation(self, xs, ys):\n",
    "        # Kiểm tra số lượng phần tử tái tạo tin mật\n",
    "        if len(xs) < self.k:\n",
    "            return None\n",
    "        # Tính nội suy lagrange tại f(0) => S trong trường hữu hạn\n",
    "        S = lagrange_interpolation_p(self.p, xs[:self.k], ys[:self.k], 0)\n",
    "        return S\n",
    "    "
   ]
  },
  {
   "cell_type": "code",
   "execution_count": 8,
   "metadata": {},
   "outputs": [
    {
     "name": "stdout",
     "output_type": "stream",
     "text": [
      "[1 2 3 4 5] [75 54 37 24 15] 100\n",
      "None 100 100\n"
     ]
    }
   ],
   "source": [
    "# Khởi tạo thuật toán\n",
    "S = 100\n",
    "k = 3\n",
    "n = 5\n",
    "p = 101\n",
    "shamir = ShamirP(S,n,k, 101)\n",
    "# Phân chia tin mật\n",
    "xs, ys, coefs = shamir.split()\n",
    "print(xs, ys, coefs[0])\n",
    "# Phục hồi tin mật bằng Lagrange trong trường hữu hạn\n",
    "print(\n",
    "    # k - 1 phần\n",
    "    shamir.join_lagrange_interpolation(xs[0:k -1],ys[0:k -1]),\n",
    "    # k phần \n",
    "    shamir.join_lagrange_interpolation(xs[0:k],ys[0:k]),\n",
    "    # k phần\n",
    "    shamir.join_lagrange_interpolation(xs[1:k+1],ys[1:k+1])\n",
    ")"
   ]
  },
  {
   "cell_type": "markdown",
   "metadata": {},
   "source": [
    "## Cài đặt phương pháp chia sẽ ảnh mật bằng thuật toán Thiên & Lin với 2 phiên bản: Lossy và lossless"
   ]
  },
  {
   "cell_type": "markdown",
   "metadata": {},
   "source": [
    "Bài toán chia sẻ ảnh thật, Chia ảnh mật $I$ (ảnh xám, mỗi pixel là một số nguyên ∈ [0, 255]) thành n phần $I1 ,I2, ... ,In$ sao cho:\n",
    "\n",
    "- Với ít nhất là k phần bất kỳ (k ≤ n) thì sẽ tái tạo được I\n",
    "- Với ít hơn k phần thì sẽ không biết gì về I"
   ]
  },
  {
   "cell_type": "code",
   "execution_count": 9,
   "metadata": {},
   "outputs": [
    {
     "data": {
      "image/png": "[encoded data removed]",
      "text/plain": [
       "<PIL.Image.Image image mode=L size=128x128 at 0x28AA7EFBA60>"
      ]
     },
     "execution_count": 9,
     "metadata": {},
     "output_type": "execute_result"
    }
   ],
   "source": [
    "# Hàm tạo ma trận hệ số từ vector x\n",
    "def gen_matrix(xs):\n",
    "    '''\n",
    "    Input: [1,2,3,4]\n",
    "    Output:\n",
    "        [\n",
    "            x^0 x^1 x^2 x^3\n",
    "            [1,  1,  1,  1]\n",
    "            [1,  2,  4,  16]\n",
    "            [1,  3,  9,  27]\n",
    "            [1,  4,  16, 64]\n",
    "        ]\n",
    "    '''\n",
    "    t = np.array([], dtype=int)\n",
    "    k = xs.shape[0]\n",
    "    for i in range(k):\n",
    "        r = np.array([], dtype=int)\n",
    "        x = xs[i]\n",
    "        for j in range(k):\n",
    "            r = np.append(r, [x ** j])\n",
    "        t = np.append(t, r)\n",
    "    return t.reshape((k, k))\n",
    "\n",
    "# Chuẩn bị ảnh mật\n",
    "size = (128,128)\n",
    "img = Image.open('lena.bmp').resize(size)\n",
    "image = np.array(img)\n",
    "flat_image = image.flatten()\n",
    "flat_image.shape\n",
    "img"
   ]
  },
  {
   "cell_type": "markdown",
   "metadata": {},
   "source": [
    "## Lossy Thiên & Lin \n",
    "\n",
    "#### Quá trình phân chia ảnh\n",
    "\n",
    "Sử dụng trường hữu hạn $Z_p$ với p = 251, với các pixel có giá trị > 250 đặt thành 250\n",
    "\n",
    "Duyệt k pixel một lần, với mỗi nhóm k pixel $p_1, p_2, ..., p_k$:\n",
    "- Ta có được đa thức $f(x) = p_1 + p_2 x + ... + p_k x^{k-1}$\n",
    "- Giá trị k pixel của nhóm sẽ được chia thành n phần theo Schamir\n",
    "\n",
    "=> Từ tất cả phần thứ i của các nhóm, ta thu được phần ảnh $I_i$ được chia nhỏ\n",
    "\n",
    "#### Quá trình tái tạo ảnh\n",
    "\n",
    "Trong n' phần ảnh $I_i$ được phần ra, ta cần k phần để tái tạo ảnh mật\n",
    "- Duyệt theo nhóm pixel, với mỗi lần duyệt tái tạo lại đa thức $f(x)$ bậc k - 1 từ k giá trị cùng nhóm pixel, từ đó thu được k hệ số của đa thức chính là k pixel của ảnh mật (*)\n",
    "- Sau khi thu được tất cả pixel của các nhóm, ta có thể tái tạo được ảnh mật.\n",
    "\n",
    "(*) Ta có thể tìm hệ số của đa thức $f(x) = p_1 + p_2 x + ... + p_k x^{k-1}$ bậc k - 1 đi qua k điểm xác định, bằng cách giải một hệ phương trình tuyến tính:\n",
    "$$\\begin{bmatrix}\n",
    "x_1^0 & x_1^1 & ... & x_1^k\\\\\n",
    "x_2^0 & x_2^1 & ... & x_2^k\\\\\n",
    "... & ... & ... & ... \\\\\n",
    "x_n^0 & x_n^1 & ... & x_n^k\\\\\n",
    "\\end{bmatrix} \n",
    "\\begin{bmatrix} p_1 \\\\ p_2 \\\\ ...\\\\ p_n \\end{bmatrix} = \\begin{bmatrix} y_1 \\\\ y_2 \\\\ ...\\\\ y_n \\end{bmatrix}$$\n"
   ]
  },
  {
   "cell_type": "code",
   "execution_count": 10,
   "metadata": {},
   "outputs": [],
   "source": [
    "class ThienLinLossy:\n",
    "    # Cài đặt thuật toán Lossy\n",
    "    def __init__(self, S: np.ndarray, n: int, k: int) -> None:\n",
    "        # Khởi tạo bài toán\n",
    "        self.S = np.copy(S)\n",
    "        # Đặt các giá trị > 250 thành 250\n",
    "        self.S[self.S > 250] = 250\n",
    "\n",
    "        self.n = n\n",
    "        self.k = k\n",
    "        self.p = 251\n",
    "\n",
    "    # Hàm phân chia thành n phần\n",
    "    def split(self):\n",
    "        group_xs = []\n",
    "        group_ys = []\n",
    "        group_coefs = []\n",
    "        n_p = self.S.shape[0]\n",
    "\n",
    "        # Duyệt theo nhóm k pixels, chia từng nhóm thành n phần\n",
    "        for c in range(0, n_p, self.k):\n",
    "            # k hệ số tương ứng với k pixels trong nhóm\n",
    "            coefs = self.S[c: c + self.k]\n",
    "            # giá trị x từ 1 đến n\n",
    "            xs = np.arange(self.n) + 1\n",
    "            # giá trị y = f(x) tương ứng\n",
    "            ys = polynomial_p(self.p, xs, coefs)\n",
    "\n",
    "            group_coefs.append(coefs)\n",
    "            group_xs.append(xs)\n",
    "            group_ys.append(ys)\n",
    "\n",
    "        return np.array(group_xs), np.array(group_ys), np.array(group_coefs, dtype=object)\n",
    "\n",
    "    # Hàm tái tạo từ k mảnh\n",
    "    def join_cramer(self, Ixs, Iys):\n",
    "        g_k, i_n = Ixs.shape\n",
    "        # Nếu ít hơn k mảnh trả về None\n",
    "        if g_k < self.k:\n",
    "            return None\n",
    "\n",
    "        # Trường hữu hạn Z_251\n",
    "        GF251 = galois.GF(251 ** 1)\n",
    "        xs = Ixs[0, 0: self.k]\n",
    "        # Ma trận giá trị x trong trường hữu hạn\n",
    "        X = GF251(gen_matrix(xs))\n",
    "\n",
    "        pixels = np.array([], dtype=np.uint8)\n",
    "        # Duyệt theo từng nhóm pixel trong k mảnh\n",
    "        for i in range(g_k):\n",
    "            # Mảng các giá trị f(x) trong trường hữu hạn\n",
    "            ys = GF251(Iys[i, 0: self.k])\n",
    "            # Giải phương trình tuyến tính trong trường hữu hạn, thu được k pixels trong nhóm i\n",
    "            g_p = np.linalg.solve(X, ys)\n",
    "            # Thêm kết quả vào mảng chứa tất cả pixels của ảnh \n",
    "            pixels = np.append(pixels, g_p)\n",
    "        \n",
    "        return pixels"
   ]
  },
  {
   "cell_type": "code",
   "execution_count": 11,
   "metadata": {},
   "outputs": [
    {
     "name": "stdout",
     "output_type": "stream",
     "text": [
      "True\n"
     ]
    },
    {
     "data": {
      "image/png": "[encoded data removed]",
      "text/plain": [
       "<PIL.Image.Image image mode=L size=128x128 at 0x28AA7DE58B0>"
      ]
     },
     "execution_count": 11,
     "metadata": {},
     "output_type": "execute_result"
    }
   ],
   "source": [
    "k = 4\n",
    "tllossy = ThienLinLossy(flat_image, 6, k)\n",
    "Ixs, Iys, Icoefs = tllossy.split()\n",
    "\n",
    "# Tái tạo từ k mảnh đầu tiên\n",
    "restore_flat_img = tllossy.join_cramer(Ixs[:,0:k], Iys[:,0:k])\n",
    "restore_img = np.array(restore_flat_img, dtype=np.uint8).reshape(size)\n",
    "# So sảnh kết quả thu được\n",
    "print(np.all(image == restore_img))\n",
    "Image.fromarray(restore_img)"
   ]
  },
  {
   "cell_type": "code",
   "execution_count": 12,
   "metadata": {},
   "outputs": [
    {
     "name": "stdout",
     "output_type": "stream",
     "text": [
      "True\n"
     ]
    },
    {
     "data": {
      "image/png": "[encoded data removed]",
      "text/plain": [
       "<PIL.Image.Image image mode=L size=128x128 at 0x28AD05A3B50>"
      ]
     },
     "execution_count": 12,
     "metadata": {},
     "output_type": "execute_result"
    }
   ],
   "source": [
    "# k mảnh cuối cùng \n",
    "restore_flat_img = tllossy.join_cramer(Ixs[:,2:6], Iys[:,2:6])\n",
    "restore_img = np.array(restore_flat_img, dtype=np.uint8).reshape(size)\n",
    "# So sảnh kết quả thu được\n",
    "print(np.all(image == restore_img))\n",
    "Image.fromarray(restore_img)"
   ]
  },
  {
   "cell_type": "markdown",
   "metadata": {},
   "source": [
    "## Lossless Thiên & Lin \n",
    "\n",
    "### Quá trình phân chia\n",
    "\n",
    "Giống như lossy, nhưng tách các giá trị x > 250 thành 2 phần là 250 và x - 250, đồng thời sử dụng một mảng khác để chứa các giá trị đã tách và thực hiện phân chia trên mảng này\n",
    "\n",
    "### Quá trình tái tạo\n",
    "\n",
    "Theo các bước như lossy, ta sẽ thu được giá trị pixel trong mảng khác, duyệt trong mảng khác ta sẽ thu được các phần tử pixel của ảnh:\n",
    "- Nếu phần tử mảng khác không bằng 250, ghi nhận giá trị\n",
    "- Nếu phần tử mảng khác bằng 250, lấy tiếp phần tử kế và ghi nhận giá trị"
   ]
  },
  {
   "cell_type": "code",
   "execution_count": 13,
   "metadata": {},
   "outputs": [],
   "source": [
    "# Hàm duyệt mảng khác để cho ra giá trị ảnh\n",
    "def real_pixels(pixels):\n",
    "    r_p = []\n",
    "    pre = 0\n",
    "    for p in np.array(pixels):\n",
    "        if p != 250:\n",
    "            r_p.append(p + pre)\n",
    "            pre = 0\n",
    "        else:\n",
    "            pre = p\n",
    "    return np.array(r_p)"
   ]
  },
  {
   "cell_type": "code",
   "execution_count": 14,
   "metadata": {},
   "outputs": [],
   "source": [
    "class ThienLinLossless:\n",
    "    # Cài đặt thuật toán Lossless\n",
    "    def __init__(self, S: np.ndarray, n: int, k: int) -> None:\n",
    "        temp = []\n",
    "        for i in S:\n",
    "            v = min(250, i)\n",
    "            temp.append(v)\n",
    "            if v == 250:\n",
    "                temp.append(i - 250)\n",
    "        self.S = np.array(temp)\n",
    "\n",
    "        self.n = n\n",
    "        self.k = k\n",
    "        self.p = 251\n",
    "\n",
    "    # Hàm phân chia thành n phần\n",
    "    def split(self):\n",
    "        group_xs = []\n",
    "        group_ys = []\n",
    "        group_coefs = []\n",
    "        n_p = self.S.shape[0]\n",
    "\n",
    "        # Duyệt theo nhóm k pixels, chia từng nhóm thành n phần\n",
    "        for c in range(0, n_p, self.k):\n",
    "            # k hệ số tương ứng với k pixels trong nhóm\n",
    "            coefs = self.S[c: c + self.k]\n",
    "            # giá trị x từ 1 đến n\n",
    "            xs = np.arange(self.n) + 1\n",
    "            # giá trị y = f(x) tương ứng\n",
    "            ys = polynomial_p(self.p, xs, coefs)\n",
    "\n",
    "            group_coefs.append(coefs)\n",
    "            group_xs.append(xs)\n",
    "            group_ys.append(ys)\n",
    "\n",
    "        return np.array(group_xs), np.array(group_ys), np.array(group_coefs, dtype=object)\n",
    "\n",
    "    # Hàm tái tạo từ k mảnh\n",
    "    def join_cramer(self, Ixs, Iys):\n",
    "        g_k, i_n = Ixs.shape\n",
    "        # Nếu ít hơn k mảnh trả về None\n",
    "        if g_k < self.k:\n",
    "            return None\n",
    "\n",
    "        # Trường hữu hạn Z_251\n",
    "        GF251 = galois.GF(251 ** 1)\n",
    "        xs = Ixs[0, 0: self.k]\n",
    "        # Ma trận giá trị x trong trường hữu hạn\n",
    "        X = GF251(gen_matrix(xs))\n",
    "\n",
    "        pixels = np.array([], dtype=np.uint8)\n",
    "        # Duyệt theo từng nhóm pixel trong k mảnh\n",
    "        for i in range(g_k):\n",
    "            # Mảng các giá trị f(x) trong trường hữu hạn\n",
    "            ys = GF251(Iys[i, 0: self.k])\n",
    "            # Giải phương trình tuyến tính trong trường hữu hạn, thu được k pixels trong nhóm i\n",
    "            g_p = np.linalg.solve(X, ys)\n",
    "            # Thêm kết quả vào mảng chứa tất cả pixels của ảnh \n",
    "            pixels = np.append(pixels, g_p)\n",
    "        \n",
    "        return pixels"
   ]
  },
  {
   "cell_type": "code",
   "execution_count": 15,
   "metadata": {},
   "outputs": [
    {
     "name": "stdout",
     "output_type": "stream",
     "text": [
      "True\n"
     ]
    },
    {
     "data": {
      "image/png": "[encoded data removed]",
      "text/plain": [
       "<PIL.Image.Image image mode=L size=128x128 at 0x28AD12C9340>"
      ]
     },
     "execution_count": 15,
     "metadata": {},
     "output_type": "execute_result"
    }
   ],
   "source": [
    "k = 4\n",
    "tllossless = ThienLinLossless(flat_image, 6, k)\n",
    "Ixs, Iys, Icoefs = tllossless.split()\n",
    "\n",
    "# Tái tạo từ k mảnh đầu tiên\n",
    "temp_restore_flat_img = tllossless.join_cramer(Ixs[:,0:k], Iys[:,0:k])\n",
    "# Từ mảng khác tạo lại mảng các pixels\n",
    "restore_flat_img = real_pixels(temp_restore_flat_img)\n",
    "\n",
    "# So sánh kết quả\n",
    "restore_img = np.array(restore_flat_img, dtype=np.uint8).reshape(size)\n",
    "print(np.all(image == restore_img))\n",
    "Image.fromarray(restore_img)"
   ]
  }
 ],
 "metadata": {
  "interpreter": {
   "hash": "63fd5069d213b44bf678585dea6b12cceca9941eaf7f819626cde1f2670de90d"
  },
  "kernelspec": {
   "display_name": "Python 3.9.6 64-bit",
   "language": "python",
   "name": "python3"
  },
  "language_info": {
   "codemirror_mode": {
    "name": "ipython",
    "version": 3
   },
   "file_extension": ".py",
   "mimetype": "text/x-python",
   "name": "python",
   "nbconvert_exporter": "python",
   "pygments_lexer": "ipython3",
   "version": "3.9.6"
  },
  "orig_nbformat": 4
 },
 "nbformat": 4,
 "nbformat_minor": 2
}
